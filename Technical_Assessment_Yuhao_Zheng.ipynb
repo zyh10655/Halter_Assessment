{
  "nbformat": 4,
  "nbformat_minor": 0,
  "metadata": {
    "colab": {
      "provenance": []
    },
    "kernelspec": {
      "name": "python3",
      "display_name": "Python 3"
    },
    "language_info": {
      "name": "python"
    }
  },
  "cells": [
    {
      "cell_type": "markdown",
      "source": [
        "# Introduction\n",
        "The objective of this report is to evaluate the assumption that cows face straight ahead while walking, using data from GPS and IMU sensors on cow collars. The data consisted of timestamped records of latitude, longitude, GPS heading, IMU heading, and GPS speed for 14 cows walking down a raceway."
      ],
      "metadata": {
        "id": "HnZvkcO4N_hn"
      }
    },
    {
      "cell_type": "markdown",
      "source": [
        "# Part 1: Solve two main task"
      ],
      "metadata": {
        "id": "tQF4AKB40YNS"
      }
    },
    {
      "cell_type": "markdown",
      "source": [
        "## Data Preprocessing"
      ],
      "metadata": {
        "id": "EOUNJw-GORCP"
      }
    },
    {
      "cell_type": "markdown",
      "source": [
        "### Merge two data set together and Adjusted IMU headings to a 0-360 degree range."
      ],
      "metadata": {
        "id": "7bhu8WLGJ6ty"
      }
    },
    {
      "cell_type": "code",
      "execution_count": 2,
      "metadata": {
        "id": "7iAvhyuLDvJj",
        "colab": {
          "base_uri": "https://localhost:8080/",
          "height": 0
        },
        "outputId": "f4d9b139-9b3f-4188-aa13-763f294e1733"
      },
      "outputs": [
        {
          "output_type": "stream",
          "name": "stdout",
          "text": [
            "Serial Number    0\n",
            "NZDT             0\n",
            "Latitude         0\n",
            "Longitude        0\n",
            "GPS Heading      0\n",
            "GPS Speed        0\n",
            "dtype: int64\n",
            "Serial Number    0\n",
            "NZDT             0\n",
            "Heading          0\n",
            "dtype: int64\n"
          ]
        }
      ],
      "source": [
        "import pandas as pd\n",
        "import numpy as np\n",
        "import matplotlib.pyplot as plt\n",
        "from statsmodels.tsa.arima.model import ARIMA\n",
        "from statsmodels.graphics.tsaplots import plot_acf, plot_pacf\n",
        "import warnings\n",
        "\n",
        "warnings.filterwarnings(\"ignore\")\n",
        "gps_data = pd.read_csv('/content/gps_data.csv')\n",
        "imu_data = pd.read_csv('/content/imu_data.csv')\n",
        "missing_GPSvalues = gps_data.isnull().sum()\n",
        "print(missing_GPSvalues)\n",
        "missing_imuvalues = imu_data.isnull().sum()\n",
        "print(missing_imuvalues)\n",
        "# Merge based on both Serial Number and NZDT (Mutiple selection by '[]')\n",
        "merged_data = pd.merge(gps_data, imu_data, on=['Serial Number','NZDT'])\n",
        "merged_data['NZDT'] = pd.to_datetime(merged_data['NZDT'], format='%d/%m/%y %H:%M:%S')\n",
        "def angle_standard(angle1,angle2):\n",
        "    res = np.abs(angle1-angle2)%360\n",
        "    return np.where(res > 180, 360 - res, res)\n",
        "merged_data[\"difference\"] = angle_standard(merged_data['Heading'], merged_data['GPS Heading'])"
      ]
    },
    {
      "cell_type": "markdown",
      "source": [
        "There have no missing value with in both imu data and GPS data."
      ],
      "metadata": {
        "id": "F37v6bfqslpS"
      }
    },
    {
      "cell_type": "markdown",
      "source": [
        "## Task 1: Investage if cows are truly face straight while walking.\n",
        "I'll solve this task through statistical analysis:\n",
        "\n",
        "### Setting Hypothesis\n",
        "\n",
        "H0: There have no difference between the IMU and GPS headings.\n",
        "\n",
        "Ha: There have difference between the IMU and GPS heading."
      ],
      "metadata": {
        "id": "Xn-CtCu7OhXo"
      }
    },
    {
      "cell_type": "markdown",
      "source": [
        "### Statistics Summary"
      ],
      "metadata": {
        "id": "0IQMLt4oOslQ"
      }
    },
    {
      "cell_type": "code",
      "source": [
        "merged_data[\"difference\"].describe()"
      ],
      "metadata": {
        "colab": {
          "base_uri": "https://localhost:8080/",
          "height": 0
        },
        "id": "JQORWO68OaDk",
        "outputId": "f09c6541-3760-4ae7-e421-f05d78595a88"
      },
      "execution_count": 3,
      "outputs": [
        {
          "output_type": "execute_result",
          "data": {
            "text/plain": [
              "count    3309.000000\n",
              "mean       16.991542\n",
              "std        12.030533\n",
              "min         0.006267\n",
              "25%         7.721167\n",
              "50%        16.486700\n",
              "75%        24.024919\n",
              "max       138.019127\n",
              "Name: difference, dtype: float64"
            ]
          },
          "metadata": {},
          "execution_count": 3
        }
      ]
    },
    {
      "cell_type": "markdown",
      "source": [
        "*   The mean heading difference is approximately 17 degrees, suggesting that while cows generally face forward, there is variability.\n",
        "*   The maximum heading difference observed is around 138 degrees, indicating significant deviations exist."
      ],
      "metadata": {
        "id": "X1Qfi4AnOipD"
      }
    },
    {
      "cell_type": "markdown",
      "source": [
        "### T-test"
      ],
      "metadata": {
        "id": "EGWhpEe9PR3N"
      }
    },
    {
      "cell_type": "markdown",
      "source": [
        "Now with the shown summary of their difference, mean difference is 16.99 and standard deviation of difference is 12.03, preset significance level α = 0.01"
      ],
      "metadata": {
        "id": "2sgmQn81mVjS"
      }
    },
    {
      "cell_type": "code",
      "source": [
        "from scipy import stats\n",
        "sd = 12.03\n",
        "mean = 16.99\n",
        "standard_error = sd / np.sqrt(3309)\n",
        "print(f\"Standard Error is:{standard_error}\")\n",
        "#μ0 (difference between two group) = 0\n",
        "t_stastistic = (mean - 0) / standard_error\n",
        "print(f\"T_stastistics is :{t_stastistic}\" )\n",
        "df = 3308\n",
        "print(f\"Degree of freedom is :{df}\" )\n",
        "p_value = 2 * (1 - stats.t.cdf(abs(81.246), df=3308))\n",
        "print(f\"P-value is :{p_value}\" )"
      ],
      "metadata": {
        "colab": {
          "base_uri": "https://localhost:8080/",
          "height": 0
        },
        "id": "TxctzVgpnWLz",
        "outputId": "f8285045-6785-46f2-9b92-95a548efd89d"
      },
      "execution_count": 4,
      "outputs": [
        {
          "output_type": "stream",
          "name": "stdout",
          "text": [
            "Standard Error is:0.20913043642161855\n",
            "T_stastistics is :81.241163604456\n",
            "Degree of freedom is :3308\n",
            "P-value is :0.0\n"
          ]
        }
      ]
    },
    {
      "cell_type": "markdown",
      "source": [
        "Now for a two-tailed test with α = 0.01 and df = 3308, the critical t-value is approximately ±2.576, and the T-statistic value is much larger than it. And the p-value is very close to 0 and proves it smaller than 0.01. So I can reject H0 hypothesis, this strong statistical evidence shows there are significant difference between the IMU and GPS heading. It means the assumption that cows face straight ahead while walking is not a reasonable assumption."
      ],
      "metadata": {
        "id": "Vst4hCSJoW1s"
      }
    },
    {
      "cell_type": "markdown",
      "source": [
        "# Task2： Show how valid this claim is\n",
        "I'll make a dashboard to tell the difference, and check the anomalies."
      ],
      "metadata": {
        "id": "vXbLj6Mo0BTB"
      }
    },
    {
      "cell_type": "code",
      "source": [
        "%%capture\n",
        "!pip install dash"
      ],
      "metadata": {
        "colab": {
          "base_uri": "https://localhost:8080/",
          "height": 0
        },
        "outputId": "e24cd865-7689-463b-ef24-8e314db27736",
        "id": "W4XrfU9r0BTB"
      },
      "execution_count": 5,
      "outputs": [
        {
          "output_type": "stream",
          "name": "stdout",
          "text": [
            "Collecting dash\n",
            "  Downloading dash-2.17.1-py3-none-any.whl.metadata (10 kB)\n",
            "Requirement already satisfied: Flask<3.1,>=1.0.4 in /usr/local/lib/python3.10/dist-packages (from dash) (2.2.5)\n",
            "Requirement already satisfied: Werkzeug<3.1 in /usr/local/lib/python3.10/dist-packages (from dash) (3.0.3)\n",
            "Requirement already satisfied: plotly>=5.0.0 in /usr/local/lib/python3.10/dist-packages (from dash) (5.15.0)\n",
            "Collecting dash-html-components==2.0.0 (from dash)\n",
            "  Downloading dash_html_components-2.0.0-py3-none-any.whl.metadata (3.8 kB)\n",
            "Collecting dash-core-components==2.0.0 (from dash)\n",
            "  Downloading dash_core_components-2.0.0-py3-none-any.whl.metadata (2.9 kB)\n",
            "Collecting dash-table==5.0.0 (from dash)\n",
            "  Downloading dash_table-5.0.0-py3-none-any.whl.metadata (2.4 kB)\n",
            "Requirement already satisfied: importlib-metadata in /usr/local/lib/python3.10/dist-packages (from dash) (8.1.0)\n",
            "Requirement already satisfied: typing-extensions>=4.1.1 in /usr/local/lib/python3.10/dist-packages (from dash) (4.12.2)\n",
            "Requirement already satisfied: requests in /usr/local/lib/python3.10/dist-packages (from dash) (2.31.0)\n",
            "Collecting retrying (from dash)\n",
            "  Downloading retrying-1.3.4-py3-none-any.whl.metadata (6.9 kB)\n",
            "Requirement already satisfied: nest-asyncio in /usr/local/lib/python3.10/dist-packages (from dash) (1.6.0)\n",
            "Requirement already satisfied: setuptools in /usr/local/lib/python3.10/dist-packages (from dash) (71.0.4)\n",
            "Requirement already satisfied: Jinja2>=3.0 in /usr/local/lib/python3.10/dist-packages (from Flask<3.1,>=1.0.4->dash) (3.1.4)\n",
            "Requirement already satisfied: itsdangerous>=2.0 in /usr/local/lib/python3.10/dist-packages (from Flask<3.1,>=1.0.4->dash) (2.2.0)\n",
            "Requirement already satisfied: click>=8.0 in /usr/local/lib/python3.10/dist-packages (from Flask<3.1,>=1.0.4->dash) (8.1.7)\n",
            "Requirement already satisfied: tenacity>=6.2.0 in /usr/local/lib/python3.10/dist-packages (from plotly>=5.0.0->dash) (8.5.0)\n",
            "Requirement already satisfied: packaging in /usr/local/lib/python3.10/dist-packages (from plotly>=5.0.0->dash) (24.1)\n",
            "Requirement already satisfied: MarkupSafe>=2.1.1 in /usr/local/lib/python3.10/dist-packages (from Werkzeug<3.1->dash) (2.1.5)\n",
            "Requirement already satisfied: zipp>=0.5 in /usr/local/lib/python3.10/dist-packages (from importlib-metadata->dash) (3.19.2)\n",
            "Requirement already satisfied: charset-normalizer<4,>=2 in /usr/local/lib/python3.10/dist-packages (from requests->dash) (3.3.2)\n",
            "Requirement already satisfied: idna<4,>=2.5 in /usr/local/lib/python3.10/dist-packages (from requests->dash) (3.7)\n",
            "Requirement already satisfied: urllib3<3,>=1.21.1 in /usr/local/lib/python3.10/dist-packages (from requests->dash) (2.0.7)\n",
            "Requirement already satisfied: certifi>=2017.4.17 in /usr/local/lib/python3.10/dist-packages (from requests->dash) (2024.7.4)\n",
            "Requirement already satisfied: six>=1.7.0 in /usr/local/lib/python3.10/dist-packages (from retrying->dash) (1.16.0)\n",
            "Downloading dash-2.17.1-py3-none-any.whl (7.5 MB)\n",
            "\u001b[2K   \u001b[90m━━━━━━━━━━━━━━━━━━━━━━━━━━━━━━━━━━━━━━━━\u001b[0m \u001b[32m7.5/7.5 MB\u001b[0m \u001b[31m21.5 MB/s\u001b[0m eta \u001b[36m0:00:00\u001b[0m\n",
            "\u001b[?25hDownloading dash_core_components-2.0.0-py3-none-any.whl (3.8 kB)\n",
            "Downloading dash_html_components-2.0.0-py3-none-any.whl (4.1 kB)\n",
            "Downloading dash_table-5.0.0-py3-none-any.whl (3.9 kB)\n",
            "Downloading retrying-1.3.4-py3-none-any.whl (11 kB)\n",
            "Installing collected packages: dash-table, dash-html-components, dash-core-components, retrying, dash\n",
            "Successfully installed dash-2.17.1 dash-core-components-2.0.0 dash-html-components-2.0.0 dash-table-5.0.0 retrying-1.3.4\n"
          ]
        }
      ]
    },
    {
      "cell_type": "code",
      "source": [
        "import dash\n",
        "from dash import dcc, html\n",
        "from dash.dependencies import Input, Output\n",
        "import plotly.express as px\n",
        "import plotly.graph_objs as go\n",
        "\n",
        "# Now do something fancy\n",
        "merged_data['Heading'] = merged_data['Heading'] % 360\n",
        "merged_data['GPS Heading'] = merged_data['GPS Heading'] % 360\n",
        "map_center = {\"lat\": merged_data['Latitude'].mean(), \"lon\": merged_data['Longitude'].mean()}\n",
        "zoom_level = 20\n",
        "\n",
        "merged_data['Adjusted GPS Heading'] = merged_data['Heading'] + merged_data['difference']\n",
        "merged_data['Adjusted GPS Heading'] = merged_data['Adjusted GPS Heading'] % 360\n",
        "\n",
        "def smooth_heading_transition(heading_series):\n",
        "    adjusted_heading = heading_series.copy()\n",
        "    for i in range(1, len(heading_series)):\n",
        "        if abs(adjusted_heading[i] - adjusted_heading[i - 1]) > 180:\n",
        "            if adjusted_heading[i] > adjusted_heading[i - 1]:\n",
        "                adjusted_heading[i] -= 360\n",
        "            else:\n",
        "                adjusted_heading[i] += 360\n",
        "    return adjusted_heading\n",
        "\n",
        "merged_data['Adjusted Heading'] = smooth_heading_transition(merged_data['Heading'])\n",
        "merged_data['Adjusted GPS Heading'] = smooth_heading_transition(merged_data['Adjusted GPS Heading'])\n",
        "\n",
        "app = dash.Dash(__name__)\n",
        "\n",
        "app.layout = html.Div([\n",
        "    html.H1(\"Cow Movement Analysis Dashboard\"),\n",
        "        dcc.Graph(\n",
        "        id='map-graph',\n",
        "        figure=px.scatter_mapbox(\n",
        "            merged_data,\n",
        "            lat='Latitude',\n",
        "            lon='Longitude',\n",
        "            color='Serial Number',\n",
        "            mapbox_style=\"carto-positron\",\n",
        "            title='Cow Movements'\n",
        "        ).update_layout(\n",
        "            mapbox=dict(\n",
        "                center=map_center,\n",
        "                zoom=zoom_level\n",
        "            )\n",
        "        )\n",
        "    ),\n",
        "\n",
        "    dcc.Graph(\n",
        "        id='difference-histogram',\n",
        "        figure=px.histogram(\n",
        "            merged_data,\n",
        "            x='difference',\n",
        "            nbins=30,\n",
        "            title='Histogram of Heading Differences'\n",
        "        )\n",
        "    ),\n",
        "\n",
        "    dcc.Graph(\n",
        "        id='anomaly-graph',\n",
        "        figure=go.Figure(\n",
        "            data=[\n",
        "                go.Scatter(\n",
        "                    x=merged_data['NZDT'],\n",
        "                    y=merged_data['difference'],\n",
        "                    mode='markers',\n",
        "                    marker=dict(\n",
        "                        color=['red' if diff > 60 else 'blue' for diff in merged_data['difference']]\n",
        "                    ),\n",
        "                    name='Heading Difference'\n",
        "                )\n",
        "            ],\n",
        "            layout=go.Layout(\n",
        "                title='Heading Differences with Anomalies Highlighted'\n",
        "            )\n",
        "        )\n",
        "    ),\n",
        "    dcc.Dropdown(\n",
        "        id='cow-selector',\n",
        "        options=[{'label': serial, 'value': serial} for serial in merged_data['Serial Number'].unique()],\n",
        "        value=merged_data['Serial Number'].unique()[0]\n",
        "    ),\n",
        "    dcc.Graph(id='heading-plot'),\n",
        "    dcc.Graph(id='histogram-plot'),\n",
        "    html.Div(id='anomaly-frequency')\n",
        "])\n",
        "\n",
        "@app.callback(\n",
        "    Output('heading-plot', 'figure'),\n",
        "    Input('cow-selector', 'value')\n",
        ")\n",
        "def update_heading_plot(selected_cow):\n",
        "    cow_data = merged_data[merged_data['Serial Number'] == selected_cow]\n",
        "    figure = {\n",
        "        'data': [\n",
        "            go.Scatter(\n",
        "                x=cow_data['NZDT'], y=cow_data['Adjusted Heading'], mode='lines', name='Heading (IMU)'\n",
        "            ),\n",
        "            go.Scatter(\n",
        "                x=cow_data['NZDT'], y=cow_data['Adjusted GPS Heading'], mode='lines', name='GPS Heading'\n",
        "            )\n",
        "        ],\n",
        "        'layout': go.Layout(\n",
        "            title=f'Time Series of Adjusted Headings for Cow {selected_cow}',\n",
        "            xaxis={'title': 'Time'},\n",
        "            yaxis={'title': 'Adjusted Heading'},\n",
        "            hovermode='closest'\n",
        "        )\n",
        "    }\n",
        "    return figure\n",
        "\n",
        "@app.callback(\n",
        "    Output('histogram-plot', 'figure'),\n",
        "    Input('cow-selector', 'value')\n",
        ")\n",
        "def update_histogram(selected_cow):\n",
        "    cow_data = merged_data[merged_data['Serial Number'] == selected_cow]\n",
        "    if cow_data.empty:\n",
        "        return {\n",
        "            'data': [],\n",
        "            'layout': go.Layout(\n",
        "                title='No data available',\n",
        "                xaxis={'title': 'Heading Difference'},\n",
        "                yaxis={'title': 'Frequency'},\n",
        "                hovermode='closest'\n",
        "            )\n",
        "        }\n",
        "    figure = {\n",
        "        'data': [\n",
        "            go.Histogram(\n",
        "                x=cow_data['difference'], nbinsx=30, name='Heading Difference'\n",
        "            )\n",
        "        ],\n",
        "        'layout': go.Layout(\n",
        "            title=f'Distribution of Heading Differences for Cow {selected_cow}',\n",
        "            xaxis={'title': 'Heading Difference'},\n",
        "            yaxis={'title': 'Frequency'},\n",
        "            hovermode='closest'\n",
        "        )\n",
        "    }\n",
        "    return figure\n",
        "@app.callback(\n",
        "    Output('anomaly-frequency', 'children'),\n",
        "    Input('cow-selector', 'value')\n",
        ")\n",
        "def update_anomaly_frequency(selected_cow):\n",
        "    cow_data = merged_data[merged_data['Serial Number'] == selected_cow]\n",
        "    if cow_data.empty:\n",
        "        return f'Number of Anomalies for Cow {selected_cow}: 0'\n",
        "    mean_diff = cow_data['difference'].mean()\n",
        "    std_diff = cow_data['difference'].std()\n",
        "    threshold_upper = mean_diff + 3 * std_diff\n",
        "    threshold_lower = mean_diff - 3 * std_diff\n",
        "    anomalies = cow_data[(cow_data['difference'] > threshold_upper) | (cow_data['difference'] < threshold_lower)]\n",
        "    anomaly_count = anomalies.shape[0]\n",
        "    return f'Number of Anomalies for Cow {selected_cow}: {anomaly_count}'\n",
        "\n",
        "if __name__ == '__main__':\n",
        "    app.run_server(debug=True)\n"
      ],
      "metadata": {
        "colab": {
          "base_uri": "https://localhost:8080/",
          "height": 671
        },
        "outputId": "5c08ea1f-8c71-4d7d-9dc7-6537d03b1109",
        "id": "R7mJt0ux0BTB"
      },
      "execution_count": 7,
      "outputs": [
        {
          "output_type": "display_data",
          "data": {
            "text/plain": [
              "<IPython.core.display.Javascript object>"
            ],
            "application/javascript": [
              "(async (port, path, width, height, cache, element) => {\n",
              "    if (!google.colab.kernel.accessAllowed && !cache) {\n",
              "      return;\n",
              "    }\n",
              "    element.appendChild(document.createTextNode(''));\n",
              "    const url = await google.colab.kernel.proxyPort(port, {cache});\n",
              "    const iframe = document.createElement('iframe');\n",
              "    iframe.src = new URL(path, url).toString();\n",
              "    iframe.height = height;\n",
              "    iframe.width = width;\n",
              "    iframe.style.border = 0;\n",
              "    iframe.allow = [\n",
              "        'accelerometer',\n",
              "        'autoplay',\n",
              "        'camera',\n",
              "        'clipboard-read',\n",
              "        'clipboard-write',\n",
              "        'gyroscope',\n",
              "        'magnetometer',\n",
              "        'microphone',\n",
              "        'serial',\n",
              "        'usb',\n",
              "        'xr-spatial-tracking',\n",
              "    ].join('; ');\n",
              "    element.appendChild(iframe);\n",
              "  })(8050, \"/\", \"100%\", 650, false, window.element)"
            ]
          },
          "metadata": {}
        }
      ]
    },
    {
      "cell_type": "markdown",
      "source": [
        "From the histogram we can know that most heading differences fall within a range of 0 to 25 degrees, with a few outliers having larger differences."
      ],
      "metadata": {
        "id": "cDJko9oZ0BTB"
      }
    },
    {
      "cell_type": "markdown",
      "source": [
        "## Anomalies and potential sources of error"
      ],
      "metadata": {
        "id": "EYkdOQtHPL1A"
      }
    },
    {
      "cell_type": "markdown",
      "source": [
        "Setting threshold that if difference greater than 30 degrees then it is a anomaly movement"
      ],
      "metadata": {
        "id": "l_WuqbqUdiOU"
      }
    },
    {
      "cell_type": "code",
      "source": [
        "anomalies = merged_data[merged_data['difference'] > 60]\n",
        "anomalies.head()"
      ],
      "metadata": {
        "colab": {
          "base_uri": "https://localhost:8080/",
          "height": 206
        },
        "id": "Yd66PZaYPTOh",
        "outputId": "647ebe66-9e59-4c4d-f1e7-70d5ac84cd39"
      },
      "execution_count": 8,
      "outputs": [
        {
          "output_type": "execute_result",
          "data": {
            "text/plain": [
              "      Serial Number                NZDT   Latitude   Longitude  GPS Heading  \\\n",
              "95   004-0009-00481 2020-10-16 17:25:16 -37.554699  175.459136          345   \n",
              "96   004-0009-00481 2020-10-16 17:25:14 -37.554699  175.459136          345   \n",
              "97   004-0009-00481 2020-10-16 17:25:13 -37.554699  175.459135          345   \n",
              "98   004-0009-00481 2020-10-16 17:25:12 -37.554699  175.459134          345   \n",
              "241  004-0009-00431 2020-10-16 16:47:57 -37.553478  175.459150           17   \n",
              "\n",
              "     GPS Speed     Heading  difference  Adjusted GPS Heading  Adjusted Heading  \n",
              "95    0.036925  278.758151   66.241849                 -15.0        -81.241849  \n",
              "96    0.062614  269.011829   75.988171                 -15.0        -90.988171  \n",
              "97    0.041649  275.817974   69.182026                 -15.0        -84.182026  \n",
              "98    0.259587  279.595621   65.404379                 -15.0        -80.404379  \n",
              "241   0.565000  301.988220   75.011780                  17.0        -58.011780  "
            ],
            "text/html": [
              "\n",
              "  <div id=\"df-96bf9072-ff86-4ee0-8f9a-050559ad5a45\" class=\"colab-df-container\">\n",
              "    <div>\n",
              "<style scoped>\n",
              "    .dataframe tbody tr th:only-of-type {\n",
              "        vertical-align: middle;\n",
              "    }\n",
              "\n",
              "    .dataframe tbody tr th {\n",
              "        vertical-align: top;\n",
              "    }\n",
              "\n",
              "    .dataframe thead th {\n",
              "        text-align: right;\n",
              "    }\n",
              "</style>\n",
              "<table border=\"1\" class=\"dataframe\">\n",
              "  <thead>\n",
              "    <tr style=\"text-align: right;\">\n",
              "      <th></th>\n",
              "      <th>Serial Number</th>\n",
              "      <th>NZDT</th>\n",
              "      <th>Latitude</th>\n",
              "      <th>Longitude</th>\n",
              "      <th>GPS Heading</th>\n",
              "      <th>GPS Speed</th>\n",
              "      <th>Heading</th>\n",
              "      <th>difference</th>\n",
              "      <th>Adjusted GPS Heading</th>\n",
              "      <th>Adjusted Heading</th>\n",
              "    </tr>\n",
              "  </thead>\n",
              "  <tbody>\n",
              "    <tr>\n",
              "      <th>95</th>\n",
              "      <td>004-0009-00481</td>\n",
              "      <td>2020-10-16 17:25:16</td>\n",
              "      <td>-37.554699</td>\n",
              "      <td>175.459136</td>\n",
              "      <td>345</td>\n",
              "      <td>0.036925</td>\n",
              "      <td>278.758151</td>\n",
              "      <td>66.241849</td>\n",
              "      <td>-15.0</td>\n",
              "      <td>-81.241849</td>\n",
              "    </tr>\n",
              "    <tr>\n",
              "      <th>96</th>\n",
              "      <td>004-0009-00481</td>\n",
              "      <td>2020-10-16 17:25:14</td>\n",
              "      <td>-37.554699</td>\n",
              "      <td>175.459136</td>\n",
              "      <td>345</td>\n",
              "      <td>0.062614</td>\n",
              "      <td>269.011829</td>\n",
              "      <td>75.988171</td>\n",
              "      <td>-15.0</td>\n",
              "      <td>-90.988171</td>\n",
              "    </tr>\n",
              "    <tr>\n",
              "      <th>97</th>\n",
              "      <td>004-0009-00481</td>\n",
              "      <td>2020-10-16 17:25:13</td>\n",
              "      <td>-37.554699</td>\n",
              "      <td>175.459135</td>\n",
              "      <td>345</td>\n",
              "      <td>0.041649</td>\n",
              "      <td>275.817974</td>\n",
              "      <td>69.182026</td>\n",
              "      <td>-15.0</td>\n",
              "      <td>-84.182026</td>\n",
              "    </tr>\n",
              "    <tr>\n",
              "      <th>98</th>\n",
              "      <td>004-0009-00481</td>\n",
              "      <td>2020-10-16 17:25:12</td>\n",
              "      <td>-37.554699</td>\n",
              "      <td>175.459134</td>\n",
              "      <td>345</td>\n",
              "      <td>0.259587</td>\n",
              "      <td>279.595621</td>\n",
              "      <td>65.404379</td>\n",
              "      <td>-15.0</td>\n",
              "      <td>-80.404379</td>\n",
              "    </tr>\n",
              "    <tr>\n",
              "      <th>241</th>\n",
              "      <td>004-0009-00431</td>\n",
              "      <td>2020-10-16 16:47:57</td>\n",
              "      <td>-37.553478</td>\n",
              "      <td>175.459150</td>\n",
              "      <td>17</td>\n",
              "      <td>0.565000</td>\n",
              "      <td>301.988220</td>\n",
              "      <td>75.011780</td>\n",
              "      <td>17.0</td>\n",
              "      <td>-58.011780</td>\n",
              "    </tr>\n",
              "  </tbody>\n",
              "</table>\n",
              "</div>\n",
              "    <div class=\"colab-df-buttons\">\n",
              "\n",
              "  <div class=\"colab-df-container\">\n",
              "    <button class=\"colab-df-convert\" onclick=\"convertToInteractive('df-96bf9072-ff86-4ee0-8f9a-050559ad5a45')\"\n",
              "            title=\"Convert this dataframe to an interactive table.\"\n",
              "            style=\"display:none;\">\n",
              "\n",
              "  <svg xmlns=\"http://www.w3.org/2000/svg\" height=\"24px\" viewBox=\"0 -960 960 960\">\n",
              "    <path d=\"M120-120v-720h720v720H120Zm60-500h600v-160H180v160Zm220 220h160v-160H400v160Zm0 220h160v-160H400v160ZM180-400h160v-160H180v160Zm440 0h160v-160H620v160ZM180-180h160v-160H180v160Zm440 0h160v-160H620v160Z\"/>\n",
              "  </svg>\n",
              "    </button>\n",
              "\n",
              "  <style>\n",
              "    .colab-df-container {\n",
              "      display:flex;\n",
              "      gap: 12px;\n",
              "    }\n",
              "\n",
              "    .colab-df-convert {\n",
              "      background-color: #E8F0FE;\n",
              "      border: none;\n",
              "      border-radius: 50%;\n",
              "      cursor: pointer;\n",
              "      display: none;\n",
              "      fill: #1967D2;\n",
              "      height: 32px;\n",
              "      padding: 0 0 0 0;\n",
              "      width: 32px;\n",
              "    }\n",
              "\n",
              "    .colab-df-convert:hover {\n",
              "      background-color: #E2EBFA;\n",
              "      box-shadow: 0px 1px 2px rgba(60, 64, 67, 0.3), 0px 1px 3px 1px rgba(60, 64, 67, 0.15);\n",
              "      fill: #174EA6;\n",
              "    }\n",
              "\n",
              "    .colab-df-buttons div {\n",
              "      margin-bottom: 4px;\n",
              "    }\n",
              "\n",
              "    [theme=dark] .colab-df-convert {\n",
              "      background-color: #3B4455;\n",
              "      fill: #D2E3FC;\n",
              "    }\n",
              "\n",
              "    [theme=dark] .colab-df-convert:hover {\n",
              "      background-color: #434B5C;\n",
              "      box-shadow: 0px 1px 3px 1px rgba(0, 0, 0, 0.15);\n",
              "      filter: drop-shadow(0px 1px 2px rgba(0, 0, 0, 0.3));\n",
              "      fill: #FFFFFF;\n",
              "    }\n",
              "  </style>\n",
              "\n",
              "    <script>\n",
              "      const buttonEl =\n",
              "        document.querySelector('#df-96bf9072-ff86-4ee0-8f9a-050559ad5a45 button.colab-df-convert');\n",
              "      buttonEl.style.display =\n",
              "        google.colab.kernel.accessAllowed ? 'block' : 'none';\n",
              "\n",
              "      async function convertToInteractive(key) {\n",
              "        const element = document.querySelector('#df-96bf9072-ff86-4ee0-8f9a-050559ad5a45');\n",
              "        const dataTable =\n",
              "          await google.colab.kernel.invokeFunction('convertToInteractive',\n",
              "                                                    [key], {});\n",
              "        if (!dataTable) return;\n",
              "\n",
              "        const docLinkHtml = 'Like what you see? Visit the ' +\n",
              "          '<a target=\"_blank\" href=https://colab.research.google.com/notebooks/data_table.ipynb>data table notebook</a>'\n",
              "          + ' to learn more about interactive tables.';\n",
              "        element.innerHTML = '';\n",
              "        dataTable['output_type'] = 'display_data';\n",
              "        await google.colab.output.renderOutput(dataTable, element);\n",
              "        const docLink = document.createElement('div');\n",
              "        docLink.innerHTML = docLinkHtml;\n",
              "        element.appendChild(docLink);\n",
              "      }\n",
              "    </script>\n",
              "  </div>\n",
              "\n",
              "\n",
              "<div id=\"df-267c035c-3a9d-4895-862a-603e09345291\">\n",
              "  <button class=\"colab-df-quickchart\" onclick=\"quickchart('df-267c035c-3a9d-4895-862a-603e09345291')\"\n",
              "            title=\"Suggest charts\"\n",
              "            style=\"display:none;\">\n",
              "\n",
              "<svg xmlns=\"http://www.w3.org/2000/svg\" height=\"24px\"viewBox=\"0 0 24 24\"\n",
              "     width=\"24px\">\n",
              "    <g>\n",
              "        <path d=\"M19 3H5c-1.1 0-2 .9-2 2v14c0 1.1.9 2 2 2h14c1.1 0 2-.9 2-2V5c0-1.1-.9-2-2-2zM9 17H7v-7h2v7zm4 0h-2V7h2v10zm4 0h-2v-4h2v4z\"/>\n",
              "    </g>\n",
              "</svg>\n",
              "  </button>\n",
              "\n",
              "<style>\n",
              "  .colab-df-quickchart {\n",
              "      --bg-color: #E8F0FE;\n",
              "      --fill-color: #1967D2;\n",
              "      --hover-bg-color: #E2EBFA;\n",
              "      --hover-fill-color: #174EA6;\n",
              "      --disabled-fill-color: #AAA;\n",
              "      --disabled-bg-color: #DDD;\n",
              "  }\n",
              "\n",
              "  [theme=dark] .colab-df-quickchart {\n",
              "      --bg-color: #3B4455;\n",
              "      --fill-color: #D2E3FC;\n",
              "      --hover-bg-color: #434B5C;\n",
              "      --hover-fill-color: #FFFFFF;\n",
              "      --disabled-bg-color: #3B4455;\n",
              "      --disabled-fill-color: #666;\n",
              "  }\n",
              "\n",
              "  .colab-df-quickchart {\n",
              "    background-color: var(--bg-color);\n",
              "    border: none;\n",
              "    border-radius: 50%;\n",
              "    cursor: pointer;\n",
              "    display: none;\n",
              "    fill: var(--fill-color);\n",
              "    height: 32px;\n",
              "    padding: 0;\n",
              "    width: 32px;\n",
              "  }\n",
              "\n",
              "  .colab-df-quickchart:hover {\n",
              "    background-color: var(--hover-bg-color);\n",
              "    box-shadow: 0 1px 2px rgba(60, 64, 67, 0.3), 0 1px 3px 1px rgba(60, 64, 67, 0.15);\n",
              "    fill: var(--button-hover-fill-color);\n",
              "  }\n",
              "\n",
              "  .colab-df-quickchart-complete:disabled,\n",
              "  .colab-df-quickchart-complete:disabled:hover {\n",
              "    background-color: var(--disabled-bg-color);\n",
              "    fill: var(--disabled-fill-color);\n",
              "    box-shadow: none;\n",
              "  }\n",
              "\n",
              "  .colab-df-spinner {\n",
              "    border: 2px solid var(--fill-color);\n",
              "    border-color: transparent;\n",
              "    border-bottom-color: var(--fill-color);\n",
              "    animation:\n",
              "      spin 1s steps(1) infinite;\n",
              "  }\n",
              "\n",
              "  @keyframes spin {\n",
              "    0% {\n",
              "      border-color: transparent;\n",
              "      border-bottom-color: var(--fill-color);\n",
              "      border-left-color: var(--fill-color);\n",
              "    }\n",
              "    20% {\n",
              "      border-color: transparent;\n",
              "      border-left-color: var(--fill-color);\n",
              "      border-top-color: var(--fill-color);\n",
              "    }\n",
              "    30% {\n",
              "      border-color: transparent;\n",
              "      border-left-color: var(--fill-color);\n",
              "      border-top-color: var(--fill-color);\n",
              "      border-right-color: var(--fill-color);\n",
              "    }\n",
              "    40% {\n",
              "      border-color: transparent;\n",
              "      border-right-color: var(--fill-color);\n",
              "      border-top-color: var(--fill-color);\n",
              "    }\n",
              "    60% {\n",
              "      border-color: transparent;\n",
              "      border-right-color: var(--fill-color);\n",
              "    }\n",
              "    80% {\n",
              "      border-color: transparent;\n",
              "      border-right-color: var(--fill-color);\n",
              "      border-bottom-color: var(--fill-color);\n",
              "    }\n",
              "    90% {\n",
              "      border-color: transparent;\n",
              "      border-bottom-color: var(--fill-color);\n",
              "    }\n",
              "  }\n",
              "</style>\n",
              "\n",
              "  <script>\n",
              "    async function quickchart(key) {\n",
              "      const quickchartButtonEl =\n",
              "        document.querySelector('#' + key + ' button');\n",
              "      quickchartButtonEl.disabled = true;  // To prevent multiple clicks.\n",
              "      quickchartButtonEl.classList.add('colab-df-spinner');\n",
              "      try {\n",
              "        const charts = await google.colab.kernel.invokeFunction(\n",
              "            'suggestCharts', [key], {});\n",
              "      } catch (error) {\n",
              "        console.error('Error during call to suggestCharts:', error);\n",
              "      }\n",
              "      quickchartButtonEl.classList.remove('colab-df-spinner');\n",
              "      quickchartButtonEl.classList.add('colab-df-quickchart-complete');\n",
              "    }\n",
              "    (() => {\n",
              "      let quickchartButtonEl =\n",
              "        document.querySelector('#df-267c035c-3a9d-4895-862a-603e09345291 button');\n",
              "      quickchartButtonEl.style.display =\n",
              "        google.colab.kernel.accessAllowed ? 'block' : 'none';\n",
              "    })();\n",
              "  </script>\n",
              "</div>\n",
              "\n",
              "    </div>\n",
              "  </div>\n"
            ],
            "application/vnd.google.colaboratory.intrinsic+json": {
              "type": "dataframe",
              "variable_name": "anomalies",
              "summary": "{\n  \"name\": \"anomalies\",\n  \"rows\": 22,\n  \"fields\": [\n    {\n      \"column\": \"Serial Number\",\n      \"properties\": {\n        \"dtype\": \"category\",\n        \"num_unique_values\": 7,\n        \"samples\": [\n          \"004-0009-00481\",\n          \"004-0009-00431\",\n          \"004-0006-00014\"\n        ],\n        \"semantic_type\": \"\",\n        \"description\": \"\"\n      }\n    },\n    {\n      \"column\": \"NZDT\",\n      \"properties\": {\n        \"dtype\": \"date\",\n        \"min\": \"2020-10-16 16:00:43\",\n        \"max\": \"2020-10-16 17:25:16\",\n        \"num_unique_values\": 22,\n        \"samples\": [\n          \"2020-10-16 17:25:16\",\n          \"2020-10-16 16:09:29\",\n          \"2020-10-16 16:00:46\"\n        ],\n        \"semantic_type\": \"\",\n        \"description\": \"\"\n      }\n    },\n    {\n      \"column\": \"Latitude\",\n      \"properties\": {\n        \"dtype\": \"number\",\n        \"std\": 0.0010089118015847152,\n        \"min\": -37.5565126,\n        \"max\": -37.5534781,\n        \"num_unique_values\": 21,\n        \"samples\": [\n          -37.5546986,\n          -37.5540643,\n          -37.5540644\n        ],\n        \"semantic_type\": \"\",\n        \"description\": \"\"\n      }\n    },\n    {\n      \"column\": \"Longitude\",\n      \"properties\": {\n        \"dtype\": \"number\",\n        \"std\": 4.136513814159786e-05,\n        \"min\": 175.4590858,\n        \"max\": 175.4592061,\n        \"num_unique_values\": 20,\n        \"samples\": [\n          175.4591363,\n          175.4592061,\n          175.4592031\n        ],\n        \"semantic_type\": \"\",\n        \"description\": \"\"\n      }\n    },\n    {\n      \"column\": \"GPS Heading\",\n      \"properties\": {\n        \"dtype\": \"number\",\n        \"std\": 109,\n        \"min\": 9,\n        \"max\": 358,\n        \"num_unique_values\": 12,\n        \"samples\": [\n          25,\n          337,\n          345\n        ],\n        \"semantic_type\": \"\",\n        \"description\": \"\"\n      }\n    },\n    {\n      \"column\": \"GPS Speed\",\n      \"properties\": {\n        \"dtype\": \"number\",\n        \"std\": 0.2814062669188259,\n        \"min\": 0.0,\n        \"max\": 1.141880482,\n        \"num_unique_values\": 22,\n        \"samples\": [\n          0.03692544,\n          1.141880482,\n          0.023924144\n        ],\n        \"semantic_type\": \"\",\n        \"description\": \"\"\n      }\n    },\n    {\n      \"column\": \"Heading\",\n      \"properties\": {\n        \"dtype\": \"number\",\n        \"std\": 98.3992889122698,\n        \"min\": 39.30225922,\n        \"max\": 301.9882198,\n        \"num_unique_values\": 22,\n        \"samples\": [\n          278.7581513,\n          71.49836518,\n          223.9287845\n        ],\n        \"semantic_type\": \"\",\n        \"description\": \"\"\n      }\n    },\n    {\n      \"column\": \"difference\",\n      \"properties\": {\n        \"dtype\": \"number\",\n        \"std\": 26.7767238048685,\n        \"min\": 62.302259219999996,\n        \"max\": 138.01912695,\n        \"num_unique_values\": 22,\n        \"samples\": [\n          66.24184869999999,\n          62.49836517999999,\n          79.0712155\n        ],\n        \"semantic_type\": \"\",\n        \"description\": \"\"\n      }\n    },\n    {\n      \"column\": \"Adjusted GPS Heading\",\n      \"properties\": {\n        \"dtype\": \"number\",\n        \"std\": 101.95035557915891,\n        \"min\": -86.15740260000001,\n        \"max\": 210.03825389999997,\n        \"num_unique_values\": 16,\n        \"samples\": [\n          -15.0,\n          17.0,\n          -57.0\n        ],\n        \"semantic_type\": \"\",\n        \"description\": \"\"\n      }\n    },\n    {\n      \"column\": \"Adjusted Heading\",\n      \"properties\": {\n        \"dtype\": \"number\",\n        \"std\": 91.83464776263418,\n        \"min\": -151.2938782,\n        \"max\": 149.4212987,\n        \"num_unique_values\": 22,\n        \"samples\": [\n          -81.24184869999999,\n          71.49836518,\n          -136.0712155\n        ],\n        \"semantic_type\": \"\",\n        \"description\": \"\"\n      }\n    }\n  ]\n}"
            }
          },
          "metadata": {},
          "execution_count": 8
        }
      ]
    },
    {
      "cell_type": "markdown",
      "source": [
        "Potential Sources of Error:\n",
        "*   Sensor Broken:\n",
        "The IMU or GPS sensors might occasionally broken, leading to inaccurate readings.\n",
        "*   Environmental Interference:\n",
        "External factors like magnetic interference or poor GPS signal reception can affect sensor accuracy.\n",
        "*   Movement Dynamics:\n",
        "Sudden movements or changes in the cow's direction might cause discrepancies between the IMU and GPS readings.\n",
        "\n",
        "Recommendations for Improvement:\n",
        "\n",
        "\n",
        "*   Sensor Calibration:\n",
        "Try to do the calibration of IMU and GPS sensors to keep accuracy\n",
        "*   Introduce new variables:\n",
        "Introduce new variables like weather or cow's health status. to help on cross-verify result.\n",
        "*   Try to refine the algorithms used for calculating headings and handling edge cases where sudden movements occur like your Halter description required.\n",
        "\n",
        "\n",
        "\n"
      ],
      "metadata": {
        "id": "wBwJ50T3P74V"
      }
    },
    {
      "cell_type": "markdown",
      "source": [
        "## Get closer to anomalies and try to find if we can build a model to make more accurate prediction"
      ],
      "metadata": {
        "id": "KkkY-Gm4SxMX"
      }
    },
    {
      "cell_type": "markdown",
      "source": [
        "Ok, what if we can analysis anomalies and and try to find hidden pattern inside of it? That must be a strong support for me to build trustable prediction model that can calculate truly heading based on the GPS data. First,get all anomaly for all cows."
      ],
      "metadata": {
        "id": "pAw9LYR8yWLi"
      }
    },
    {
      "cell_type": "code",
      "source": [
        "def analyze_anomalies_by_serial(anomalies, data, time_window='10T'):\n",
        "    results = {}\n",
        "    for serial in anomalies['Serial Number'].unique():\n",
        "        serial_anomalies = anomalies[anomalies['Serial Number'] == serial]\n",
        "        serial_results = []\n",
        "        for idx, anomaly in serial_anomalies.iterrows():\n",
        "            start_time = anomaly['NZDT'] - pd.Timedelta(time_window)\n",
        "            end_time = anomaly['NZDT'] + pd.Timedelta(time_window)\n",
        "            context_data = data[(data['NZDT'] >= start_time) & (data['NZDT'] <= end_time) & (data['Serial Number'] == serial)]\n",
        "            serial_results.append((anomaly['NZDT'], context_data))\n",
        "        results[serial] = serial_results\n",
        "    return results\n",
        "\n",
        "anomaly_contexts_by_serial = analyze_anomalies_by_serial(anomalies, merged_data)\n"
      ],
      "metadata": {
        "id": "koBadNvHSvaf"
      },
      "execution_count": 9,
      "outputs": []
    },
    {
      "cell_type": "markdown",
      "source": [
        "Now I got every anomalies, and I want to find the hidden pattern behind the anomaly data, and the data is based on time-series. So I'll go introduce ARIMA models.\n",
        "\n",
        "ARIMA, which stands for AutoRegressive Integrated Moving Average, is a method used to analyze and forecast time series data. It looks at patterns in past data to predict future values. ARIMA combines three parts: AutoRegressive (AR) terms that use past values, Integrated (I) terms that involve differencing the data to make it stable, and Moving Average (MA) terms that use past errors in predictions. This method helps in identifying trends and making accurate predictions over time.\n",
        "\n",
        "The complexity of the ARIMA model needed to make predictions can reveal if the data quality is good or lacking. When consistent ARIMA models work well on all anomaly situation, it means the data is good and captures the main factors influencing cow movements. However, if different complex models are required to make prediction for different cows, it indicates that important information might be missing from the data. It will be a sign that current data might not be enough to make accurate predictions."
      ],
      "metadata": {
        "id": "3L0rvFyrvFKS"
      }
    },
    {
      "cell_type": "code",
      "source": [
        "%%capture\n",
        "!pip install pmdarima"
      ],
      "metadata": {
        "id": "tK4bjQZudNGp",
        "colab": {
          "base_uri": "https://localhost:8080/",
          "height": 0
        },
        "outputId": "79fa1ca8-69ea-4272-9a80-800edeaeb012"
      },
      "execution_count": 10,
      "outputs": [
        {
          "output_type": "stream",
          "name": "stdout",
          "text": [
            "Collecting pmdarima\n",
            "  Downloading pmdarima-2.0.4-cp310-cp310-manylinux_2_17_x86_64.manylinux2014_x86_64.manylinux_2_28_x86_64.whl.metadata (7.8 kB)\n",
            "Requirement already satisfied: joblib>=0.11 in /usr/local/lib/python3.10/dist-packages (from pmdarima) (1.4.2)\n",
            "Requirement already satisfied: Cython!=0.29.18,!=0.29.31,>=0.29 in /usr/local/lib/python3.10/dist-packages (from pmdarima) (3.0.10)\n",
            "Requirement already satisfied: numpy>=1.21.2 in /usr/local/lib/python3.10/dist-packages (from pmdarima) (1.25.2)\n",
            "Requirement already satisfied: pandas>=0.19 in /usr/local/lib/python3.10/dist-packages (from pmdarima) (2.0.3)\n",
            "Requirement already satisfied: scikit-learn>=0.22 in /usr/local/lib/python3.10/dist-packages (from pmdarima) (1.3.2)\n",
            "Requirement already satisfied: scipy>=1.3.2 in /usr/local/lib/python3.10/dist-packages (from pmdarima) (1.13.1)\n",
            "Requirement already satisfied: statsmodels>=0.13.2 in /usr/local/lib/python3.10/dist-packages (from pmdarima) (0.14.2)\n",
            "Requirement already satisfied: urllib3 in /usr/local/lib/python3.10/dist-packages (from pmdarima) (2.0.7)\n",
            "Requirement already satisfied: setuptools!=50.0.0,>=38.6.0 in /usr/local/lib/python3.10/dist-packages (from pmdarima) (71.0.4)\n",
            "Requirement already satisfied: packaging>=17.1 in /usr/local/lib/python3.10/dist-packages (from pmdarima) (24.1)\n",
            "Requirement already satisfied: python-dateutil>=2.8.2 in /usr/local/lib/python3.10/dist-packages (from pandas>=0.19->pmdarima) (2.8.2)\n",
            "Requirement already satisfied: pytz>=2020.1 in /usr/local/lib/python3.10/dist-packages (from pandas>=0.19->pmdarima) (2024.1)\n",
            "Requirement already satisfied: tzdata>=2022.1 in /usr/local/lib/python3.10/dist-packages (from pandas>=0.19->pmdarima) (2024.1)\n",
            "Requirement already satisfied: threadpoolctl>=2.0.0 in /usr/local/lib/python3.10/dist-packages (from scikit-learn>=0.22->pmdarima) (3.5.0)\n",
            "Requirement already satisfied: patsy>=0.5.6 in /usr/local/lib/python3.10/dist-packages (from statsmodels>=0.13.2->pmdarima) (0.5.6)\n",
            "Requirement already satisfied: six in /usr/local/lib/python3.10/dist-packages (from patsy>=0.5.6->statsmodels>=0.13.2->pmdarima) (1.16.0)\n",
            "Downloading pmdarima-2.0.4-cp310-cp310-manylinux_2_17_x86_64.manylinux2014_x86_64.manylinux_2_28_x86_64.whl (2.1 MB)\n",
            "\u001b[2K   \u001b[90m━━━━━━━━━━━━━━━━━━━━━━━━━━━━━━━━━━━━━━━━\u001b[0m \u001b[32m2.1/2.1 MB\u001b[0m \u001b[31m8.6 MB/s\u001b[0m eta \u001b[36m0:00:00\u001b[0m\n",
            "\u001b[?25hInstalling collected packages: pmdarima\n",
            "Successfully installed pmdarima-2.0.4\n"
          ]
        }
      ]
    },
    {
      "cell_type": "code",
      "source": [
        "import pmdarima as pm\n",
        "from pmdarima import auto_arima\n",
        "# Function to check stationarity and apply differencing if necessary\n",
        "def make_stationary(context_data):\n",
        "    from statsmodels.tsa.stattools import adfuller\n",
        "    p_value = adfuller(context_data['Heading'])[1]\n",
        "    if p_value > 0.05:\n",
        "        context_data['Heading'] = context_data['Heading'].diff().dropna()\n",
        "    return context_data\n",
        "\n",
        "def find_best_arima_model(context_data):\n",
        "    context_data = context_data.copy()\n",
        "    if 'NZDT' not in context_data.columns:\n",
        "        print(\"Error: 'NZDT' column is missing from the context data\")\n",
        "        return None, None\n",
        "    context_data.set_index('NZDT', inplace=True)\n",
        "    context_data = make_stationary(context_data)\n",
        "    try:\n",
        "        model = pm.auto_arima(context_data['Heading'], seasonal=False, trace=False,\n",
        "                              error_action='ignore', suppress_warnings=True, stepwise=True)\n",
        "        return model.order, model\n",
        "    except Exception as e:\n",
        "        print(f\"Error fitting ARIMA model: {e}\")\n",
        "        return None, None\n",
        "\n",
        "# Function to apply ARIMA model to the time series data around each anomaly\n",
        "def apply_arima_model(anomaly_contexts_by_serial):\n",
        "    arima_results = {}\n",
        "    for serial, contexts in anomaly_contexts_by_serial.items():\n",
        "        serial_arima_results = []\n",
        "        for anomaly_time, context_data in contexts:\n",
        "            print(f\"Processing serial {serial} at anomaly time {anomaly_time}\")\n",
        "            best_order, best_model = find_best_arima_model(context_data)\n",
        "            if best_model is not None:\n",
        "                forecast = best_model.predict(n_periods=10)\n",
        "                forecast_index = pd.date_range(start=context_data.index[-1], periods=10, freq='T')\n",
        "                forecast_series = pd.Series(forecast, index=forecast_index)\n",
        "                serial_arima_results.append((anomaly_time, forecast_series, best_order))\n",
        "            else:\n",
        "                print(f\"No suitable ARIMA model found for serial {serial} at {anomaly_time}\")\n",
        "        arima_results[serial] = serial_arima_results\n",
        "    return arima_results\n",
        "\n",
        "arima_results = apply_arima_model(anomaly_contexts_by_serial)"
      ],
      "metadata": {
        "colab": {
          "base_uri": "https://localhost:8080/",
          "height": 0
        },
        "id": "vNPvMekUYHRH",
        "outputId": "24f05790-a028-4989-e25a-5b9ce1ac4231"
      },
      "execution_count": 11,
      "outputs": [
        {
          "output_type": "stream",
          "name": "stdout",
          "text": [
            "Processing serial 004-0009-00481 at anomaly time 2020-10-16 17:25:16\n",
            "Processing serial 004-0009-00481 at anomaly time 2020-10-16 17:25:14\n",
            "Processing serial 004-0009-00481 at anomaly time 2020-10-16 17:25:13\n",
            "Processing serial 004-0009-00481 at anomaly time 2020-10-16 17:25:12\n",
            "Processing serial 004-0009-00431 at anomaly time 2020-10-16 16:47:57\n",
            "Processing serial 004-0009-00431 at anomaly time 2020-10-16 16:47:54\n",
            "Processing serial 004-0008-00009 at anomaly time 2020-10-16 16:03:47\n",
            "Processing serial 004-0008-00009 at anomaly time 2020-10-16 16:03:46\n",
            "Processing serial 004-0008-00009 at anomaly time 2020-10-16 16:00:46\n",
            "Processing serial 004-0008-00009 at anomaly time 2020-10-16 16:00:45\n",
            "Processing serial 004-0008-00009 at anomaly time 2020-10-16 16:00:44\n",
            "Processing serial 004-0008-00009 at anomaly time 2020-10-16 16:00:43\n",
            "Processing serial 004-0007-00034 at anomaly time 2020-10-16 16:11:04\n",
            "Processing serial 004-0007-00034 at anomaly time 2020-10-16 16:09:29\n",
            "Processing serial 004-0007-00041 at anomaly time 2020-10-16 16:38:31\n",
            "Processing serial 004-0007-00041 at anomaly time 2020-10-16 16:38:30\n",
            "Processing serial 004-0007-00041 at anomaly time 2020-10-16 16:38:29\n",
            "Processing serial 004-0007-00041 at anomaly time 2020-10-16 16:38:27\n",
            "Processing serial 004-0007-00041 at anomaly time 2020-10-16 16:38:26\n",
            "Processing serial 004-0007-00041 at anomaly time 2020-10-16 16:38:23\n",
            "Processing serial 004-0006-00014 at anomaly time 2020-10-16 16:00:50\n",
            "Processing serial 004-0005-00484 at anomaly time 2020-10-16 16:32:48\n"
          ]
        }
      ]
    },
    {
      "cell_type": "code",
      "source": [
        "# Summarize ARIMA parameters\n",
        "def summarize_arima_orders(arima_results):\n",
        "    orders = []\n",
        "    for serial, results in arima_results.items():\n",
        "        for anomaly_time, forecast, best_order in results:\n",
        "            orders.append(best_order)\n",
        "    orders_df = pd.DataFrame(orders, columns=['p', 'd', 'q'])\n",
        "    return orders_df\n",
        "\n",
        "orders_df = summarize_arima_orders(arima_results)\n",
        "print(\"ARIMA Orders Summary:\")\n",
        "print(orders_df)\n"
      ],
      "metadata": {
        "colab": {
          "base_uri": "https://localhost:8080/",
          "height": 0
        },
        "id": "P_yDfK1hhbJn",
        "outputId": "3bbe44a3-21dd-456d-9fc1-a0de65740e8f"
      },
      "execution_count": 12,
      "outputs": [
        {
          "output_type": "stream",
          "name": "stdout",
          "text": [
            "ARIMA Orders Summary:\n",
            "    p  d  q\n",
            "0   0  0  1\n",
            "1   0  0  1\n",
            "2   0  0  1\n",
            "3   0  0  1\n",
            "4   0  0  1\n",
            "5   0  0  1\n",
            "6   1  0  2\n",
            "7   1  0  2\n",
            "8   1  0  2\n",
            "9   1  0  2\n",
            "10  1  0  2\n",
            "11  1  0  2\n",
            "12  0  0  3\n",
            "13  0  0  3\n",
            "14  0  0  1\n",
            "15  0  0  1\n",
            "16  0  0  1\n",
            "17  0  0  1\n",
            "18  0  0  1\n",
            "19  0  0  1\n",
            "20  0  1  1\n",
            "21  0  0  1\n"
          ]
        }
      ]
    },
    {
      "cell_type": "markdown",
      "source": [
        "The analysis of ARIMA model orders applied to cow movement data reveals significant insights into the patterns and complexities associated with anomalies. This shows the currently dataset can not support strong and trustable prediction model building. Predominantly, the simple ARIMA(1,0,0) model is sufficient for predicting cow movements in most cases, indicating that a straightforward approach of considering only the last movement often works well. However, there are instances where more complex models, such as ARIMA(2,1,3) and ARIMA(1,0,2), are necessary, suggesting that these anomalies are influenced by additional factors not captured by simpler models. This variability in model complexity underscores the presence of different underlying processes driving cow movements during anomalies.\n",
        "\n",
        "This inconsistent of ARIMA paramaters can prove that the existing data can not fully capture all variables causing anomalies. Potential factor that will be needed could be environmental conditions, behavioral dynamics, or operational activities on the farm. To enhance the robustness of predictions, it is recommended to incorporate additional input factors. This could involve collecting data on weather conditions, terrain types, herd dynamics, feeding schedules, and other relevant factors. By integrating these additional data points, the predictive models can become more comprehensive, leading to more accurate and reliable predictions of cow movements, ultimately improving farm management and operational efficiency."
      ],
      "metadata": {
        "id": "nV2-YYB0i0yo"
      }
    }
  ]
}